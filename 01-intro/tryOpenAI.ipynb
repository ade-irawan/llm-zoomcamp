{
 "cells": [
  {
   "cell_type": "code",
   "execution_count": 1,
   "id": "0d01c147-5c2d-40f1-b270-7ebffc820ae7",
   "metadata": {},
   "outputs": [],
   "source": [
    "import openai"
   ]
  },
  {
   "cell_type": "code",
   "execution_count": 2,
   "id": "1eeb5dce-f713-4f52-acc3-36785198676d",
   "metadata": {},
   "outputs": [],
   "source": [
    "from openai import OpenAI"
   ]
  },
  {
   "cell_type": "code",
   "execution_count": 3,
   "id": "d75a5e34-3e2e-403d-a6ee-a5915888efbc",
   "metadata": {},
   "outputs": [],
   "source": [
    "client = OpenAI()"
   ]
  },
  {
   "cell_type": "code",
   "execution_count": 4,
   "id": "b3808642-3434-4160-89c2-b8a1c778405e",
   "metadata": {},
   "outputs": [],
   "source": [
    "import os"
   ]
  },
  {
   "cell_type": "code",
   "execution_count": 9,
   "id": "19cc80a7-5064-4a9a-a489-45bde98fd423",
   "metadata": {},
   "outputs": [],
   "source": [
    "response = client.chat.completions.create(\n",
    "    model = 'gpt-4o',\n",
    "    messages=[{\"role\": \"user\",\n",
    "               \"content\": \"is it too late to join the course?\"}]\n",
    ")"
   ]
  },
  {
   "cell_type": "code",
   "execution_count": 10,
   "id": "2ec95639-be6b-4777-a140-7f5a9db6fda8",
   "metadata": {},
   "outputs": [
    {
     "data": {
      "text/plain": [
       "ChatCompletion(id='chatcmpl-9bf3vPWKx2oJfCoA8zNpytmSou4Lz', choices=[Choice(finish_reason='stop', index=0, logprobs=None, message=ChatCompletionMessage(content=\"The answer to whether it's too late to join a course can depend on several factors:\\n\\n1. **Registration Deadlines:** Each course or institution typically has its own enrollment deadlines. Check with the course provider or institution for specific dates.\\n  \\n2. **Course Schedule:** If the course has already started, you might be able to join late, but this will depend on the instructor's policy and how far along the course is. \\n\\n3. **Prerequisites:** Ensure you meet any prerequisites or entry requirements. Joining a course late could mean missing out on important foundational material.\\n\\n4. **Availability:** Some courses have limited spots and may fill up quickly. Check if there are still available seats.\\n\\n5. **Online vs. In-Person:** Online courses often have more flexible start dates and may allow you to join at multiple points throughout the year.\\n\\nIf you want specific guidance, contact the course administrator or instructor directly. They can provide the most accurate information and possibly offer some options for late enrollment.\", role='assistant', function_call=None, tool_calls=None))], created=1718763007, model='gpt-4o-2024-05-13', object='chat.completion', system_fingerprint='fp_9cb5d38cf7', usage=CompletionUsage(completion_tokens=199, prompt_tokens=16, total_tokens=215))"
      ]
     },
     "execution_count": 10,
     "metadata": {},
     "output_type": "execute_result"
    }
   ],
   "source": [
    "response"
   ]
  },
  {
   "cell_type": "code",
   "execution_count": 12,
   "id": "4591bd1a-6bbd-4c8d-a234-aa251e36f47d",
   "metadata": {},
   "outputs": [
    {
     "data": {
      "text/plain": [
       "\"The answer to whether it's too late to join a course can depend on several factors:\\n\\n1. **Registration Deadlines:** Each course or institution typically has its own enrollment deadlines. Check with the course provider or institution for specific dates.\\n  \\n2. **Course Schedule:** If the course has already started, you might be able to join late, but this will depend on the instructor's policy and how far along the course is. \\n\\n3. **Prerequisites:** Ensure you meet any prerequisites or entry requirements. Joining a course late could mean missing out on important foundational material.\\n\\n4. **Availability:** Some courses have limited spots and may fill up quickly. Check if there are still available seats.\\n\\n5. **Online vs. In-Person:** Online courses often have more flexible start dates and may allow you to join at multiple points throughout the year.\\n\\nIf you want specific guidance, contact the course administrator or instructor directly. They can provide the most accurate information and possibly offer some options for late enrollment.\""
      ]
     },
     "execution_count": 12,
     "metadata": {},
     "output_type": "execute_result"
    }
   ],
   "source": [
    "response.choices[0].message.content"
   ]
  },
  {
   "cell_type": "code",
   "execution_count": null,
   "id": "01c49ac8-ec05-42b7-b46e-0b81b72c15a7",
   "metadata": {},
   "outputs": [],
   "source": []
  }
 ],
 "metadata": {
  "kernelspec": {
   "display_name": "Python 3 (ipykernel)",
   "language": "python",
   "name": "python3"
  },
  "language_info": {
   "codemirror_mode": {
    "name": "ipython",
    "version": 3
   },
   "file_extension": ".py",
   "mimetype": "text/x-python",
   "name": "python",
   "nbconvert_exporter": "python",
   "pygments_lexer": "ipython3",
   "version": "3.10.13"
  }
 },
 "nbformat": 4,
 "nbformat_minor": 5
}
